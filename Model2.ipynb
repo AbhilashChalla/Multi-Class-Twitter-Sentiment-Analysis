{
 "cells": [
  {
   "cell_type": "code",
   "execution_count": 17,
   "metadata": {},
   "outputs": [],
   "source": [
    "import numpy as np \n",
    "import sklearn\n",
    "import pandas as pd \n",
    "%matplotlib inline\n",
    "import seaborn as sns\n",
    "import nltk\n",
    "import matplotlib.pyplot as plt\n",
    "from nltk.corpus import wordnet as wn\n",
    "from nltk.corpus import stopwords\n",
    "import re\n",
    "import csv\n",
    "import random"
   ]
  },
  {
   "cell_type": "code",
   "execution_count": 18,
   "metadata": {},
   "outputs": [],
   "source": [
    "\n",
    "stop=stopwords.words('english')\n",
    "stop.append('URL')\n",
    "hashtags=[]\n",
    "def preprocessTweet2(tweet):\n",
    "    # process the tweets\n",
    "    #Convert to lower case\n",
    "    tweet = tweet.lower()\n",
    "    #Convert www.* or https?://* to URL\n",
    "    tweet = re.sub('((www\\.[^\\s]+)|(https?://[^\\s]+))','URL',tweet)\n",
    "    #Convert @username to AT_USER\n",
    "    #tweet = re.sub('@[^\\s]+','[^\\s]+',tweet)\n",
    "    tweet=re.sub('[@:]', '', tweet)\n",
    "    #Remove additional white spaces\n",
    "    tweet = re.sub('[\\s]+', ' ', tweet)\n",
    "    \n",
    "    st=re.findall(r'\\#\\w+', tweet)\n",
    "    hashtags.extend(st)\n",
    "   \n",
    "    #Replace #word with word\n",
    "    tweet = re.sub(r'#([^\\s]+)', r'\\1', tweet)\n",
    "    tweet=re.sub(r'[^\\x00-\\x7f]',r'', tweet) \n",
    "    tweet = tweet.strip('\\'\"')\n",
    "    return tweet\n",
    "\n",
    "def replaceRepetitions(s):\n",
    "    #look for 2 or more repetitions of character and replace with the character itself\n",
    "    pattern = re.compile(r\"(.)\\1{1,}\", re.DOTALL)\n",
    "    return pattern.sub(r\"\\1\\1\", s)\n",
    "\n",
    "\n",
    "#Feature vector\n",
    "def getFeatureVector(tweet):\n",
    "    featureVector = []\n",
    "    #split tweet into words\n",
    "    words = tweet.split()\n",
    "    for w in words:\n",
    "        #replace two or more with two occurrences\n",
    "        w = replaceRepetitions(w)\n",
    "        #strip punctuation\n",
    "        w = w.strip('\\'\"?,.')\n",
    "        val = re.search(r\"^[a-zA-Z][a-zA-Z0-9]*$\", w)\n",
    "        \n",
    "        #ignore if it is a stop word\n",
    "        if(w in stop or val is None):\n",
    "            continue\n",
    "        else:\n",
    "            featureVector.append(w.lower())\n",
    "            #featureVector=addSynonyms(featureVector,w.lower())\n",
    "            \n",
    "    return featureVector\n",
    "\n",
    "def extract_features(tweet):\n",
    "    tweet_words = set(tweet)\n",
    "    features = {}\n",
    "    for word in featureListSyn:\n",
    "        features['contains(%s)' % word] = (word in tweet_words)\n",
    "    return features"
   ]
  },
  {
   "cell_type": "code",
   "execution_count": 28,
   "metadata": {},
   "outputs": [],
   "source": [
    "important_discomfort=['shortage','crunch','affect','suicide','people','common','man','marriage','suffering','problems','problem','emergency','village','price','life','ends','distress','rip','uncomfortable','distressed']\n",
    "important_analytical=['conversation','talks','talk','view','views','opinion','results','compare','point','write','writes','','']\n",
    "important_supportive=['jandhan','blackmoney','notebandi','cashban','opposition','oppostionXposed','great','idea','profit','better','payments','debit','credit','cards','paytm','PAYTM','terrorists','terrorism','naxal','surrender','maoists','fight','modifightscorruption','modiagainstcorruption','against','benefit','false','appreciated','praised','appreciating','praising','tax','raid','taxes','raids','netascashin']\n",
    "important_criticize=['disaster','stupid','bad loans','bad debt','concern','effect','scams','suffered','criticized','criticize','critical','funny','loss','damage','damaged','failing','fail','angry','upset','dissatisfied','drop','negative','disadvantage']\n"
   ]
  },
  {
   "cell_type": "code",
   "execution_count": 29,
   "metadata": {},
   "outputs": [],
   "source": [
    "def getFeatureVector_with_synonyms(tweet):\n",
    "    featureVectorSyn = []\n",
    "    #split tweet into words\n",
    "    words = tweet.split()\n",
    "    for w in words:\n",
    "        #replace two or more with two occurrences\n",
    "        w = replaceRepetitions(w)\n",
    "        #strip punctuation\n",
    "        w = w.strip('\\'\"?,.')\n",
    "        val = re.search(r\"^[a-zA-Z][a-zA-Z0-9]*$\", w)\n",
    "        #ignore if it is a stop word\n",
    "        if(w in stop or val is None):\n",
    "            continue\n",
    "        else:\n",
    "            featureVectorSyn.append(w.lower())\n",
    "            #featureVectorSyn=addSynonyms(featureVectorSyn,w.lower())\n",
    "    return featureVectorSyn"
   ]
  },
  {
   "cell_type": "code",
   "execution_count": 30,
   "metadata": {},
   "outputs": [
    {
     "data": {
      "image/png": "[encoded data removed]",
      "text/plain": [
       "<matplotlib.figure.Figure at 0x23843539400>"
      ]
     },
     "metadata": {},
     "output_type": "display_data"
    },
    {
     "name": "stdout",
     "output_type": "stream",
     "text": [
      "1734\n",
      "1500\n",
      "234\n"
     ]
    }
   ],
   "source": [
    "f = open('shuffled_tweets.csv','r',encoding='UTF-8')\n",
    "file1 = csv.reader(f, delimiter=',')\n",
    "featureListSyn = []\n",
    "# Getting tweets \n",
    "tweetsSyn = []\n",
    "for row in file1:\n",
    "    Sentiment = row[3]\n",
    "    Tweet = row[0]\n",
    "    PreprocessedTweet = preprocessTweet2(Tweet)\n",
    "    #print(PreprocessedTweet)\n",
    "    featureVectorSyn = getFeatureVector_with_synonyms(PreprocessedTweet)\n",
    "    featureListSyn.extend(featureVectorSyn)\n",
    "    tweetsSyn.append((featureVectorSyn, Sentiment))\n",
    "\n",
    "    \n",
    "#popular hashtags\n",
    "popular_hashtags={}\n",
    "for w in hashtags:\n",
    "    if w not in popular_hashtags:\n",
    "        popular_hashtags[w] = 0 \n",
    "    popular_hashtags[w] += 1\n",
    "\n",
    "\n",
    "\n",
    "    \n",
    "    \n",
    "#sorted_hash=popular_hashtags.sort_values(w)    \n",
    "pop={}\n",
    "for w in sorted(popular_hashtags, key=popular_hashtags.get, reverse=True):\n",
    "  pop[w]=popular_hashtags[w]\n",
    "\n",
    "ph= pd.Series(pop)\n",
    "ph.index.name='tag'\n",
    "ph.reset_index()\n",
    "ph.sort_values( ascending=[ False], inplace=True)\n",
    "#print(ph)\n",
    "ph_100=ph.head(25)\n",
    "plt.figure(figsize=(15,10))\n",
    "ph_100.plot.bar()\n",
    "plt.show()\n",
    "\n",
    "\n",
    "\n",
    "\n",
    "tweetsSyn.append((important_discomfort, 'discomfort'))\n",
    "tweetsSyn.append((important_supportive, 'supportive'))\n",
    "tweetsSyn.append((important_criticize, 'criticize'))\n",
    "tweetsSyn.append((important_analytical, 'analytical'))\n",
    "    \n",
    "\n",
    "    \n",
    "    \n",
    "# Remove featureList duplicates\n",
    "featureListSyn = list(set(featureListSyn))\n",
    "\n",
    "\n",
    "# Extract feature vector for all tweets in one shote\n",
    "training_set_syns = nltk.classify.util.apply_features(extract_features, tweetsSyn)\n",
    "\n",
    "print(len(training_set_syns))\n",
    "train_set_syns, test_set_syns = training_set_syns[:1500], training_set_syns[1500:]\n",
    "print(len(train_set_syns))\n",
    "print(len(test_set_syns))\n"
   ]
  },
  {
   "cell_type": "code",
   "execution_count": 36,
   "metadata": {},
   "outputs": [
    {
     "name": "stdout",
     "output_type": "stream",
     "text": [
      "0.5641025641025641\n",
      "discomfort\n"
     ]
    }
   ],
   "source": [
    "classifier_syns = nltk.NaiveBayesClassifier.train(train_set_syns)\n",
    "print(nltk.classify.accuracy(classifier_syns, test_set_syns))\n",
    "# Test the classifier\n",
    "testTweet_syns = 'people have to stand in long queues to get their own money'\n",
    "PreprocessedTestTweet = preprocessTweet(testTweet_syns)\n",
    "print (classifier_syns.classify(extract_features(getFeatureVector_with_synonyms(PreprocessedTestTweet))))"
   ]
  },
  {
   "cell_type": "markdown",
   "metadata": {},
   "source": [
    "# Result Comparison:\n"
   ]
  },
  {
   "cell_type": "markdown",
   "metadata": {},
   "source": [
    "### Existing Model:  52.60\n",
    "### Proposed Model: 56.41"
   ]
  }
 ],
 "metadata": {
  "kernelspec": {
   "display_name": "Python [conda env:Anaconda3]",
   "language": "python",
   "name": "conda-env-Anaconda3-py"
  },
  "language_info": {
   "codemirror_mode": {
    "name": "ipython",
    "version": 3
   },
   "file_extension": ".py",
   "mimetype": "text/x-python",
   "name": "python",
   "nbconvert_exporter": "python",
   "pygments_lexer": "ipython3",
   "version": "3.6.1"
  }
 },
 "nbformat": 4,
 "nbformat_minor": 2
}
